{
 "cells": [
  {
   "cell_type": "markdown",
   "source": [
    "# Visualize NN"
   ],
   "metadata": {
    "collapsed": false,
    "pycharm": {
     "name": "#%% md\n"
    }
   }
  },
  {
   "cell_type": "code",
   "execution_count": 1,
   "outputs": [],
   "source": [
    "# Imports\n",
    "from GLOBALS import *\n",
    "from alg_nets import *"
   ],
   "metadata": {
    "collapsed": false,
    "pycharm": {
     "name": "#%%\n"
    }
   }
  },
  {
   "cell_type": "code",
   "execution_count": 2,
   "metadata": {
    "collapsed": true
   },
   "outputs": [
    {
     "data": {
      "text/plain": "64"
     },
     "execution_count": 2,
     "metadata": {},
     "output_type": "execute_result"
    }
   ],
   "source": [
    "HIDDEN_SIZE"
   ]
  },
  {
   "cell_type": "code",
   "execution_count": 108,
   "outputs": [],
   "source": [
    "actor = ActorNet(4,1)\n",
    "critic = CriticNet(4,1,1)\n",
    "target_critic = CriticNet(4,1,1)"
   ],
   "metadata": {
    "collapsed": false,
    "pycharm": {
     "name": "#%%\n"
    }
   }
  },
  {
   "cell_type": "code",
   "execution_count": 4,
   "outputs": [
    {
     "data": {
      "text/plain": "ActorNet(\n  (fc1): Linear(in_features=4, out_features=64, bias=True)\n  (fc2): Linear(in_features=64, out_features=1, bias=True)\n  (net): Sequential(\n    (0): Linear(in_features=4, out_features=64, bias=True)\n    (1): ReLU()\n    (2): Linear(in_features=64, out_features=1, bias=True)\n    (3): Tanh()\n  )\n)"
     },
     "execution_count": 4,
     "metadata": {},
     "output_type": "execute_result"
    }
   ],
   "source": [
    "actor"
   ],
   "metadata": {
    "collapsed": false,
    "pycharm": {
     "name": "#%%\n"
    }
   }
  },
  {
   "cell_type": "code",
   "execution_count": 5,
   "outputs": [
    {
     "data": {
      "text/plain": "CriticNet(\n  (fc1): Linear(in_features=4, out_features=64, bias=True)\n  (fc2): Linear(in_features=64, out_features=4, bias=True)\n  (fc3): Linear(in_features=5, out_features=64, bias=True)\n  (fc4): Linear(in_features=64, out_features=1, bias=True)\n  (obs_net): Sequential(\n    (0): Linear(in_features=4, out_features=64, bias=True)\n    (1): ReLU()\n    (2): Linear(in_features=64, out_features=4, bias=True)\n    (3): ReLU()\n  )\n  (out_net): Sequential(\n    (0): Linear(in_features=5, out_features=64, bias=True)\n    (1): ReLU()\n    (2): Linear(in_features=64, out_features=1, bias=True)\n  )\n)"
     },
     "execution_count": 5,
     "metadata": {},
     "output_type": "execute_result"
    }
   ],
   "source": [
    "critic"
   ],
   "metadata": {
    "collapsed": false,
    "pycharm": {
     "name": "#%%\n"
    }
   }
  },
  {
   "cell_type": "markdown",
   "source": [
    "## Heatmap"
   ],
   "metadata": {
    "collapsed": false,
    "pycharm": {
     "name": "#%% md\n"
    }
   }
  },
  {
   "cell_type": "code",
   "execution_count": 27,
   "outputs": [
    {
     "data": {
      "text/plain": "<Figure size 432x288 with 1 Axes>",
      "image/png": "[encoded data removed]"
     },
     "metadata": {
      "needs_background": "light"
     },
     "output_type": "display_data"
    },
    {
     "data": {
      "text/plain": "array([[-0.0851287 , -2.42022243,  1.11429819, ...,  0.24241353,\n         0.7233658 ,  0.43220935],\n       [-0.57497944,  1.38572924, -0.78560001, ...,  0.39844764,\n        -1.03102768, -0.21711468],\n       [ 0.96025908, -0.24688899,  1.35330677, ...,  0.15593421,\n        -0.75190179,  1.52044784],\n       ...,\n       [ 0.78014057,  0.95155645,  1.65080288, ..., -0.38109782,\n         0.66489252, -0.39602911],\n       [ 0.92494837,  0.5120928 , -1.85629186, ...,  0.41263002,\n         1.00862847, -1.71813437],\n       [ 1.76008229, -1.40029499,  1.42278491, ...,  1.62499015,\n        -0.13670846, -0.29589853]])"
     },
     "execution_count": 27,
     "metadata": {},
     "output_type": "execute_result"
    }
   ],
   "source": [
    "a = np.random.randn(64,64)\n",
    "plt.imshow(a, cmap='hot', interpolation='nearest')\n",
    "plt.show()\n",
    "a"
   ],
   "metadata": {
    "collapsed": false,
    "pycharm": {
     "name": "#%%\n"
    }
   }
  },
  {
   "cell_type": "markdown",
   "source": [
    "## Parameters\n"
   ],
   "metadata": {
    "collapsed": false,
    "pycharm": {
     "name": "#%% md\n"
    }
   }
  },
  {
   "cell_type": "code",
   "execution_count": 67,
   "outputs": [
    {
     "data": {
      "text/plain": "(1, 256)"
     },
     "execution_count": 67,
     "metadata": {},
     "output_type": "execute_result"
    }
   ],
   "source": [
    "# actor.fc2.weight\n",
    "weights_fc1 = list(actor.parameters())[0].data.numpy().copy()\n",
    "shape_weights_fc1 = weights_fc1.shape\n",
    "weights_fc1 = weights_fc1.reshape((1, np.dot(*shape_weights_fc1)))\n",
    "# weights_fc1.shape[0] % 64\n",
    "weights_fc1.shape"
   ],
   "metadata": {
    "collapsed": false,
    "pycharm": {
     "name": "#%%\n"
    }
   }
  },
  {
   "cell_type": "code",
   "execution_count": 107,
   "outputs": [
    {
     "data": {
      "text/plain": "<Figure size 432x288 with 1 Axes>",
      "image/png": "[encoded data removed]"
     },
     "metadata": {
      "needs_background": "light"
     },
     "output_type": "display_data"
    },
    {
     "data": {
      "text/plain": "array([-0.11243102, -0.02769113, -0.01811605,  0.0264976 ,  0.0528204 ,\n       -0.29575223, -0.2111693 ,  0.21980542, -0.14988981,  0.06032706,\n       -0.17703822,  0.15028283,  0.09187389, -0.33760434, -0.08377649,\n        0.07831556,  0.08605394, -0.27071819,  0.13281637,  0.09746261,\n        0.24373998,  0.52467316, -0.25318241,  0.45198834,  0.1191216 ,\n       -0.01140049,  0.12886859, -0.01589098, -0.21742859,  0.16767262,\n        0.04862802, -0.01143142, -0.00820263, -0.03413134, -0.07177457,\n       -0.34680811,  0.06537143, -0.4117856 , -0.14388001,  0.07803573,\n       -0.1055211 ,  0.01650396,  0.07091788,  0.33940285,  0.02562264,\n        0.13464399,  0.45110908,  0.13029298,  0.13214312,  0.01062758,\n       -0.24476142,  0.29410475,  0.20531116,  0.0119822 , -0.00257612,\n        0.02455147, -0.16334523,  0.03767759,  0.16481027,  0.09326686,\n        0.10272978,  0.04391136, -0.11398898,  0.23632   ])"
     },
     "execution_count": 107,
     "metadata": {},
     "output_type": "execute_result"
    }
   ],
   "source": [
    "def get_matrix(net):\n",
    "    matrix = np.zeros((1,64))\n",
    "    for layer in list(net.parameters()):\n",
    "        layer_np = layer.data.numpy().copy()\n",
    "        # print(len(layer_np.shape))\n",
    "        if len(layer_np.shape) > 1:\n",
    "            layer_np = layer_np.reshape((1, np.dot(*layer_np.shape)))\n",
    "        else:\n",
    "            layer_np = layer_np.reshape((1, layer_np.shape[0]))\n",
    "        to_add = np.zeros((1, layer_np.shape[1] % 64))\n",
    "        layer_np = np.concatenate((layer_np, to_add), axis=1)\n",
    "        times64 = int(layer_np.shape[1] / 64)\n",
    "        for t in range(times64):\n",
    "            one_part = layer_np[:,t*64:(t+1)*64]\n",
    "            matrix = np.concatenate((matrix, one_part), axis=0)\n",
    "    return matrix[1:,:]\n",
    "mat = get_matrix(critic)\n",
    "plt.imshow(mat, cmap='hot', interpolation='nearest')\n",
    "plt.show()\n",
    "mat[-1]"
   ],
   "metadata": {
    "collapsed": false,
    "pycharm": {
     "name": "#%%\n"
    }
   }
  },
  {
   "cell_type": "code",
   "execution_count": 106,
   "outputs": [
    {
     "data": {
      "text/plain": "Parameter containing:\ntensor([[-0.1124, -0.0277, -0.0181,  0.0265,  0.0528, -0.2958, -0.2112,  0.2198,\n         -0.1499,  0.0603, -0.1770,  0.1503,  0.0919, -0.3376, -0.0838,  0.0783,\n          0.0861, -0.2707,  0.1328,  0.0975,  0.2437,  0.5247, -0.2532,  0.4520,\n          0.1191, -0.0114,  0.1289, -0.0159, -0.2174,  0.1677,  0.0486, -0.0114,\n         -0.0082, -0.0341, -0.0718, -0.3468,  0.0654, -0.4118, -0.1439,  0.0780,\n         -0.1055,  0.0165,  0.0709,  0.3394,  0.0256,  0.1346,  0.4511,  0.1303,\n          0.1321,  0.0106, -0.2448,  0.2941,  0.2053,  0.0120, -0.0026,  0.0246,\n         -0.1633,  0.0377,  0.1648,  0.0933,  0.1027,  0.0439, -0.1140,  0.2363]],\n       requires_grad=True)"
     },
     "execution_count": 106,
     "metadata": {},
     "output_type": "execute_result"
    }
   ],
   "source": [
    "list(critic.parameters())[-2]"
   ],
   "metadata": {
    "collapsed": false,
    "pycharm": {
     "name": "#%%\n"
    }
   }
  },
  {
   "cell_type": "code",
   "execution_count": 75,
   "outputs": [
    {
     "data": {
      "text/plain": "array([[1, 2, 3, 4, 5, 6]])"
     },
     "execution_count": 75,
     "metadata": {},
     "output_type": "execute_result"
    }
   ],
   "source": [
    "a = np.array([[1, 2, 3, 4]])\n",
    "b = np.array([[5, 6]])\n",
    "np.concatenate((a, b), axis=1)"
   ],
   "metadata": {
    "collapsed": false,
    "pycharm": {
     "name": "#%%\n"
    }
   }
  },
  {
   "cell_type": "code",
   "execution_count": 112,
   "outputs": [
    {
     "data": {
      "text/plain": "<Figure size 432x288 with 1 Axes>",
      "image/png": "[encoded data removed]"
     },
     "metadata": {
      "needs_background": "light"
     },
     "output_type": "display_data"
    }
   ],
   "source": [
    "def get_diff_matrix(mat1, mat2):\n",
    "    mat1 = get_matrix(critic)\n",
    "    mat2 = get_matrix(target_critic)\n",
    "    mat3 = mat1 - mat2\n",
    "    return mat3\n",
    "mat3 = get_diff_matrix(get_matrix(critic), get_matrix(target_critic))\n",
    "plt.imshow(mat3, cmap='hot', interpolation='nearest')\n",
    "plt.show()"
   ],
   "metadata": {
    "collapsed": false,
    "pycharm": {
     "name": "#%%\n"
    }
   }
  },
  {
   "cell_type": "code",
   "execution_count": 124,
   "outputs": [
    {
     "data": {
      "text/plain": "<Figure size 432x288 with 2 Axes>",
      "image/png": "[encoded data removed]"
     },
     "metadata": {
      "needs_background": "light"
     },
     "output_type": "display_data"
    }
   ],
   "source": [
    "# target_critic.load_state_dict(critic.state_dict())\n",
    "target_critic = CriticNet(4,1,1)\n",
    "mat1 = get_matrix(critic)\n",
    "mat2 = get_matrix(target_critic)\n",
    "mat3 = mat1 - mat2\n",
    "plt.imshow(mat3, cmap='hot', interpolation='nearest')\n",
    "plt.colorbar()\n",
    "plt.show()"
   ],
   "metadata": {
    "collapsed": false,
    "pycharm": {
     "name": "#%%\n"
    }
   }
  },
  {
   "cell_type": "code",
   "execution_count": 122,
   "outputs": [
    {
     "data": {
      "text/plain": "<Figure size 432x288 with 1 Axes>",
      "image/png": "[encoded data removed]"
     },
     "metadata": {
      "needs_background": "light"
     },
     "output_type": "display_data"
    },
    {
     "data": {
      "text/plain": "<Figure size 432x288 with 1 Axes>",
      "image/png": "[encoded data removed]"
     },
     "metadata": {
      "needs_background": "light"
     },
     "output_type": "display_data"
    }
   ],
   "source": [
    "def get_diff_matrix(net1, net2):\n",
    "    mat1 = get_matrix(net1)\n",
    "    mat2 = get_matrix(net2)\n",
    "    mat3 = mat1 - mat2\n",
    "    return mat3\n",
    "mat3 = get_diff_matrix(critic, target_critic)\n",
    "plt.imshow(mat3, cmap='hot', interpolation='nearest')\n",
    "plt.show()"
   ],
   "metadata": {
    "collapsed": false,
    "pycharm": {
     "name": "#%%\n"
    }
   }
  }
 ],
 "metadata": {
  "kernelspec": {
   "display_name": "Python 3",
   "language": "python",
   "name": "python3"
  },
  "language_info": {
   "codemirror_mode": {
    "name": "ipython",
    "version": 2
   },
   "file_extension": ".py",
   "mimetype": "text/x-python",
   "name": "python",
   "nbconvert_exporter": "python",
   "pygments_lexer": "ipython2",
   "version": "2.7.6"
  }
 },
 "nbformat": 4,
 "nbformat_minor": 0
}